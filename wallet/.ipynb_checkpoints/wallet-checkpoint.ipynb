{
 "cells": [
  {
   "cell_type": "code",
   "execution_count": 2,
   "metadata": {},
   "outputs": [],
   "source": [
    "from constants import *"
   ]
  },
  {
   "cell_type": "code",
   "execution_count": 3,
   "metadata": {},
   "outputs": [
    {
     "data": {
      "text/plain": [
       "True"
      ]
     },
     "execution_count": 3,
     "metadata": {},
     "output_type": "execute_result"
    }
   ],
   "source": [
    "import subprocess\n",
    "import json\n",
    "import os\n",
    "from dotenv import load_dotenv\n",
    "from constants import *\n",
    "from web3 import Web3\n",
    "from bit import wif_to_key\n",
    "\n",
    "load_dotenv()"
   ]
  },
  {
   "cell_type": "code",
   "execution_count": 4,
   "metadata": {},
   "outputs": [
    {
     "name": "stdout",
     "output_type": "stream",
     "text": [
      "reform metal behind party exhaust place length during you cram arena add\n"
     ]
    }
   ],
   "source": [
    "mnemonic = os.getenv('MNEMONIC')\n",
    "print(mnemonic)"
   ]
  },
  {
   "cell_type": "code",
   "execution_count": 5,
   "metadata": {},
   "outputs": [],
   "source": [
    "command = f\"./derive -g --mnemonic ='{mnemonic}' --coin='{BTC}' --numderive='10' --cols=path,address,privkey,pubkey --format=json\""
   ]
  },
  {
   "cell_type": "code",
   "execution_count": 6,
   "metadata": {},
   "outputs": [
    {
     "name": "stdout",
     "output_type": "stream",
     "text": [
      "[{'path': \"m/44'/0'/0'/0/0\", 'address': '1YNiLRWRLC9Mn2qonapcmJV9uC7N7Xz4Z', 'privkey': 'KyY1tdzqrhPgNLnw7HWB6NWrgE1eQsoHRxDTMtbsTfnBTEG6hfRt', 'pubkey': '025fbd0382f0447ab70bfbe55ecb1e43248d210b4b884c0be35057f0ab6553db2b'}, {'path': \"m/44'/0'/0'/0/1\", 'address': '1CUkJ1Q1XGG1aJLaHMNLijqeoSjP7XyqkS', 'privkey': 'KxzjEysRV6Ww7QL4HR7tLijmbbwxfMRz8cG9QMYQDfSUWuoD6fND', 'pubkey': '025d4a309a56aec20d43bdd1e7ec31e4889723d9b742738af01cad204a63409250'}, {'path': \"m/44'/0'/0'/0/2\", 'address': '14MwSyz7wJCi4i8Q4q28JQ5ns2c2yxKFtk', 'privkey': 'L1iYaGmgtERahHsihXLWrrTDu43pS9CiFHnRDsoK4FmqQUWApcnu', 'pubkey': '036655ceb5acc9e9a8f56225302885e1e5bf7f6a0c71d55180be5cf7f8add81836'}, {'path': \"m/44'/0'/0'/0/3\", 'address': '15jHkacR6v6e7LmTzs6hZ2T8RX3q5xg4UR', 'privkey': 'L57vWiqgr3tkthECSmaXQUALcatPx34g2ycNV13HDHGMUiKpfWdq', 'pubkey': '03d08105d1f1cf1768a2f412cb369f1677936a1a7c8024147e38252503a0ed36b4'}, {'path': \"m/44'/0'/0'/0/4\", 'address': '1HpHMp6ZAy5mK8kQ5nzNesEDA9kDRTBcHb', 'privkey': 'L5eZTB98QwwYfmkfwdar3qUvAoDzzgrxucuib2XhqVysQ99Um2fG', 'pubkey': '0372bba2bf5d49ee15b761bafa0b3a99018c12431cdef7557ef4a941d8ea9f41d5'}, {'path': \"m/44'/0'/0'/0/5\", 'address': '13wSbaK4yguJf1wvJsrTKsB69J7k7Wsp8a', 'privkey': 'L1ddYC7iqDgkgB89KBxqon3xStm6Ku95t3mkXnvHH8PvjpDpR3xo', 'pubkey': '0361b3160f6730a3ba897ce3a38a4d138b82de9bc4612560a51768648e545fd705'}, {'path': \"m/44'/0'/0'/0/6\", 'address': '1C3xuSjpecRHPnTJQke6HcX3q8yncNzKpk', 'privkey': 'L5YycPzC9nKC1oguzBUWj34CkhchbWBaq861cQ9yR9t5cvWPodE1', 'pubkey': '0239a0dcdb8dcfc2c3cceba7c71b806c6cfa99247b3189dfe74300c1953cbf2a7b'}, {'path': \"m/44'/0'/0'/0/7\", 'address': '16Lv7Wmcaa4pR72mz2ajVFSSCwnnMv7g4X', 'privkey': 'L2QUEnncexWYHqK1smxdmjBv5WnNhtF8xRthjqP3frVez31HPKj5', 'pubkey': '03b40462cea77bffa65052f9e930084d001dfe062067dd490ed0d3ff2c914784a2'}, {'path': \"m/44'/0'/0'/0/8\", 'address': '19DKU9fGKtgmRvLhrVU99jayzPJVUuDyTG', 'privkey': 'Kx475ykhyvcM5oWzGqQQbUWSV5yAGCwrnVDgQzFLdjefhmf1TojJ', 'pubkey': '03d681680e113e34859c4f42cb51a125f2d3b7553be4fbdd254d464ea8eb1c22a6'}, {'path': \"m/44'/0'/0'/0/9\", 'address': '1Bbq2J3UigiTy557KRkthTbDFP2RBFmZb7', 'privkey': 'L4pAMYzWHPDDXLCP8c6aQrkMMmnUmf6Qbj2qmR5bRdgJT1mp7F1o', 'pubkey': '02d16e54bb9c338e90e9935959171533b56bb6a4f2ed83186032cc547f57d19b99'}]\n"
     ]
    }
   ],
   "source": [
    "p = subprocess.Popen(command, stdout=subprocess.PIPE, shell=True)\n",
    "(output, err) = p.communicate()\n",
    "p_status = p.wait()\n",
    "\n",
    "keys = json.loads(output)\n",
    "print(keys)"
   ]
  },
  {
   "cell_type": "code",
   "execution_count": 7,
   "metadata": {},
   "outputs": [],
   "source": [
    "def derive_wallets (mnemonic, coin, num):\n",
    "    command = f\"./derive -g --mnemonic ='{mnemonic}' --coin='{coin}' --numderive='{num}' --cols=path,address,privkey,pubkey --format=json\"\n",
    "    p = subprocess.Popen(command, stdout=subprocess.PIPE, shell=True)\n",
    "    (output, err) =p.communicate()\n",
    "    p_status = p.wait()\n",
    "    keys = json.loads(output)\n",
    "    return keys"
   ]
  },
  {
   "cell_type": "code",
   "execution_count": 8,
   "metadata": {},
   "outputs": [
    {
     "data": {
      "text/plain": [
       "{'path': \"m/44'/60'/0'/0/1\",\n",
       " 'address': '0x8b72b4cc1C7039038c126a0508C652a39B3BD6aA',\n",
       " 'privkey': '0x661a320757c5e859a7d8ae0fe09b00fe7dfad8970c959b34d1bfa01dd7f7e784',\n",
       " 'pubkey': '022e95b0c701f801b1819fa6fc66ffbe38dd657bae2c3c35bf3f9f039dcfd5b921'}"
      ]
     },
     "execution_count": 8,
     "metadata": {},
     "output_type": "execute_result"
    }
   ],
   "source": [
    "derive_wallets(mnemonic, ETH, 10)[1]"
   ]
  },
  {
   "cell_type": "code",
   "execution_count": 9,
   "metadata": {},
   "outputs": [],
   "source": [
    "def priv_key_account(coin, privkey):\n",
    "    if coin == ETH:\n",
    "        return Account.privateKeyToAccount(priv_key)\n",
    "    if coin == BTCTEST:\n",
    "        return PrivateKeyTestnet(priv_key)\n"
   ]
  },
  {
   "cell_type": "code",
   "execution_count": 11,
   "metadata": {},
   "outputs": [],
   "source": [
    "def create_trx(coin, account, recipient, amount):\n",
    "    \"\"\"create the raw, unsigned transaction that contains all metadata needed to transact\"\"\"\n",
    "    global trx_data\n",
    "    if coin ==ETH:\n",
    "        gasEstimate = w3.eth.estimateGas(\n",
    "            {\"from\": account.address, \"to\": recipient, \"value\": amount}\n",
    "        )\n",
    "        trx_data = {\n",
    "            \"to\": recipient,\n",
    "            \"from\": account.address,\n",
    "            \"value\": amount,\n",
    "            \"gasPrice\": w3.eth.gasPrice,\n",
    "            \"gas\": gasEstimate,\n",
    "            \"nonce\": w3.eth.getTransactionCount(account.address)\n",
    "        }\n",
    "        return trx_data\n",
    "\n",
    "    if coin == BTCTEST:\n",
    "        return PrivateKeyTestnet.prepare_transaction(account.address, [(recipient, amount, BTC)]) "
   ]
  },
  {
   "cell_type": "code",
   "execution_count": 12,
   "metadata": {},
   "outputs": [],
   "source": [
    "def send_trx(coin, account, recipient, amount):\n",
    "    \"\"\"call create_trx, sign the transaction, then send it to the designated network\"\"\"\n",
    "    if coin == \"eth\": \n",
    "        trx_eth = create_trx(coin,account, recipient, amount)\n",
    "        sign = account.signTransaction(trx_eth)\n",
    "        result = w3.eth.sendRawTransaction(sign.rawTransaction)\n",
    "        print(result.hex())\n",
    "        return result.hex()\n",
    "    else:\n",
    "        trx_btctest= create_trx(coin,account,recipient,amount)\n",
    "        sign_trx_btctest = account.sign_transaction(trx_btctest)\n",
    "        from bit.network import NetworkAPI\n",
    "        NetworkAPI.broadcast_tx_testnet(sign_trx_btctest)       \n",
    "        return sign_trx_btctest"
   ]
  },
  {
   "cell_type": "code",
   "execution_count": null,
   "metadata": {},
   "outputs": [],
   "source": []
  }
 ],
 "metadata": {
  "kernelspec": {
   "display_name": "Python 3",
   "language": "python",
   "name": "python3"
  },
  "language_info": {
   "codemirror_mode": {
    "name": "ipython",
    "version": 3
   },
   "file_extension": ".py",
   "mimetype": "text/x-python",
   "name": "python",
   "nbconvert_exporter": "python",
   "pygments_lexer": "ipython3",
   "version": "3.7.4"
  }
 },
 "nbformat": 4,
 "nbformat_minor": 4
}
