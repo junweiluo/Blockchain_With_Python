{
 "cells": [
  {
   "cell_type": "code",
   "execution_count": 21,
   "metadata": {},
   "outputs": [
    {
     "data": {
      "text/plain": [
       "True"
      ]
     },
     "execution_count": 21,
     "metadata": {},
     "output_type": "execute_result"
    }
   ],
   "source": [
    "from constants import *\n",
    "import subprocess\n",
    "import json\n",
    "import os\n",
    "from dotenv import load_dotenv\n",
    "from web3 import Web3\n",
    "from web3.middleware import geth_poa_middleware\n",
    "from web3.gas_strategies.time_based import medium_gas_price_strategy\n",
    "from bit import wif_to_key, PrivateKeyTestnet\n",
    "from bit.network import NetworkAPI\n",
    "from eth_account import Account\n",
    "\n",
    "load_dotenv()"
   ]
  },
  {
   "cell_type": "code",
   "execution_count": 22,
   "metadata": {},
   "outputs": [
    {
     "name": "stdout",
     "output_type": "stream",
     "text": [
      "reform metal behind party exhaust place length during you cram arena add\n"
     ]
    }
   ],
   "source": [
    "mnemonic = os.getenv('MNEMONIC')\n",
    "print(mnemonic)"
   ]
  },
  {
   "cell_type": "code",
   "execution_count": 24,
   "metadata": {},
   "outputs": [],
   "source": [
    "w3 = Web3(Web3.HTTPProvider(\"http://127.0.0.1:8545\"))\n",
    "w3.middleware_onion.inject(geth_poa_middleware, layer =0)\n",
    "w3.eth.setGasPriceStrategy(medium_gas_price_strategy)"
   ]
  },
  {
   "cell_type": "code",
   "execution_count": 39,
   "metadata": {},
   "outputs": [],
   "source": [
    "def derive_wallets (mnemonic, coin, num):\n",
    "    command = f'./derive -g --mnemonic=\"{mnemonic}\" --coin=\"{coin}\" --numderive=\"{num}\" --cols=index,path,address,privkey,pubkey,pubkeyhash,xprv,xpub --format=json'\n",
    "    p = subprocess.Popen(command, stdout=subprocess.PIPE, shell=True)\n",
    "    (output, err) = p.communicate()\n",
    "    p_status = p.wait()\n",
    "    keys = json.loads(output)\n",
    "    return keys"
   ]
  },
  {
   "cell_type": "code",
   "execution_count": 40,
   "metadata": {},
   "outputs": [
    {
     "data": {
      "text/plain": [
       "[{'index': 0,\n",
       "  'path': \"m/44'/60'/0'/0/0\",\n",
       "  'address': '0xF7F66a3883d2Dce1887f623E4Bfa68BADd09e13C',\n",
       "  'privkey': '0xf30006b745f00e77350713d2335f3c5fa91d693b6e8de219ffee26bfbd94fed3',\n",
       "  'pubkey': '03466dd9f4a76b733fea9058b369606013005e8d4f114ce40e9fff56300c572678',\n",
       "  'pubkeyhash': 'b0e61450f60134468e621bdc61e4ab613e213678',\n",
       "  'xprv': 'xprvA3y3sHa3MwtdAXpxC6unBw8a4jVMLPwJJ9vW6BEpgzT4GiMGaJEQAeDo3oJgKSDk8TKs5U4mkXH1Ys9c2Bv7HXoPRLMmiNCu6iuvWsxyyFn',\n",
       "  'xpub': 'xpub6GxQGo6wCKSvP1uRJ8SnZ55JcmKqjrf9fNr6tZeSFKz39WgR7qYeiSYGu4yBqpwBy3sERnRFYfPKYsE5rtAaSGny4ivgZQ4k9pMvQSrWSLp'},\n",
       " {'index': 1,\n",
       "  'path': \"m/44'/60'/0'/0/1\",\n",
       "  'address': '0xaB30a1260dD2db95653d7e8c82712057330a8B17',\n",
       "  'privkey': '0x0adc3fc19a7c6e3f06bc01b876c7655318f72fc6afedf75252c2547bdf4e69da',\n",
       "  'pubkey': '03f7caf442b99332966e6ab6c76eb5ad280aaa0e766c4d539d174f43f4a0f6f3fa',\n",
       "  'pubkeyhash': '33379f3ff99362dd52aa93e0fa6207e1f7a8a6ee',\n",
       "  'xprv': 'xprvA3y3sHa3MwtdEByoSgo1uhf3MJNQNjVt5aofrj6CZJbkmErGru49suUNLpj32VcvWm8mtpn44bLMoYxvX2r2TpCuwdPiTXzYc9aBV8JLxok',\n",
       "  'xpub': 'xpub6GxQGo6wCKSvSg4GYiL2GqbmuLCtnCDjSojGf7Vp7e8je3BRQSNQRhnrC9VtmPvhZH3XtQ7fbQr5he3dXJDmpHa4G4nEwuAYY8ENpbaQpch'},\n",
       " {'index': 2,\n",
       "  'path': \"m/44'/60'/0'/0/2\",\n",
       "  'address': '0xFE231cd6797d0D7f94b577DF40d745d709B4Cd9f',\n",
       "  'privkey': '0x22d98d0ec41463d909bc7dac87b52c9af9243ec14ddfe9aa5946905f4b1cd1d7',\n",
       "  'pubkey': '023696dd32e5b19b6e03ff4674a7630ec236d5d587279af9995c9ca1c0971e2c44',\n",
       "  'pubkeyhash': '1742e4fbaab9f1338bfeac08a80d7a721502dd9c',\n",
       "  'xprv': 'xprvA3y3sHa3MwtdGe72mRw7wjtEP9sypwqhhh5csKUGT9aQ7AJy4wqjTvzBusogN6fqr44ms1AGD7ovGJSbPgenWqYTEzT2G4oVcNM3GjUiDAt',\n",
       "  'xpub': 'xpub6GxQGo6wCKSvV8BVsTU8JspxwBiUEQZZ4v1Dfhst1V7Nyxe7cV9z1jJfm8z92SuBirQPib2pngGV8wNp5WZ8uhXMza6a5CVjPqnZCgZa2b7'},\n",
       " {'index': 3,\n",
       "  'path': \"m/44'/60'/0'/0/3\",\n",
       "  'address': '0xC6d5487ba0Bda90DAe66f20B0FEb988De9A9e1dF',\n",
       "  'privkey': '0xe68166b846ec0245ca9efd39a3deeff2008d27d38e4b9c4660fd7e4e5989cf64',\n",
       "  'pubkey': '0238db0f2d4a346fc515317f2b39451f5484f8c16e7388408016e60b81a7f47992',\n",
       "  'pubkeyhash': '84a5577c245ffda6c5da3f02d115704240c3a4c6',\n",
       "  'xprv': 'xprvA3y3sHa3MwtdJT29C62Lpat8ieeCSfCkVNuMHHMkUm3eywSEqomozZC2ngvDE2EnTQEd2amENYyZv8Ln442FVjTtLUinxpMy8EasctjCFxg',\n",
       "  'xpub': 'xpub6GxQGo6wCKSvWw6cJ7ZMBipsGgUgr7vbrbpx5fmN36adrjmPPM64YMWWdvdW1wMKiYKUPfc2oQXMzMkXjyEghyvTC7YctR7A9Ybgj4dbggC'},\n",
       " {'index': 4,\n",
       "  'path': \"m/44'/60'/0'/0/4\",\n",
       "  'address': '0xF0f66976D133d1AE93B2131bBBA0C8B913d895F6',\n",
       "  'privkey': '0xab9bc86dd9d9f9cbf5a8f6dc0313d7441d72fc756a52fdb7352177a1d2484baa',\n",
       "  'pubkey': '032146d22a1c2d0ed4f321d806a15d36a1038d99cc37e8df1efb7021e720f645e3',\n",
       "  'pubkeyhash': '5520158040cb543690a63fb49fac2e0b6f6784b9',\n",
       "  'xprv': 'xprvA3y3sHa3MwtdM5Fa8RRZZqnR5jBz3FXmYsVqRsrmaoePK2ndjqjUvrhMc7MTycbqx2YcbRE8XHxaxB35Sky68fbeWHkBi1WY4cw4kvyKZ6Y',\n",
       "  'xpub': 'xpub6GxQGo6wCKSvZZL3ESxZvyj9dm2USiFcv6RSEGGP99BNBq7nHP3jUf1qTPH46MRBXSGUCamhjSxr26A5GsHUmurwNGtqH4V98jGnVrr66HL'}]"
      ]
     },
     "execution_count": 40,
     "metadata": {},
     "output_type": "execute_result"
    }
   ],
   "source": [
    "derive_wallets(mnemonic, ETH, 5)"
   ]
  },
  {
   "cell_type": "code",
   "execution_count": 44,
   "metadata": {},
   "outputs": [],
   "source": [
    "def priv_key_account(coin, priv_key):\n",
    "    if coin == ETH:\n",
    "        return Account.privateKeyToAccount(priv_key)\n",
    "    if coin == BTCTEST:\n",
    "        return PrivateKeyTestnet(priv_key)\n"
   ]
  },
  {
   "cell_type": "code",
   "execution_count": 45,
   "metadata": {},
   "outputs": [],
   "source": [
    "ETH_key = priv_key_account(ETH, '0xe68166b846ec0245ca9efd39a3deeff2008d27d38e4b9c4660fd7e4e5989cf64')"
   ]
  },
  {
   "cell_type": "code",
   "execution_count": 46,
   "metadata": {},
   "outputs": [
    {
     "data": {
      "text/plain": [
       "<eth_account.signers.local.LocalAccount at 0x108a12690>"
      ]
     },
     "execution_count": 46,
     "metadata": {},
     "output_type": "execute_result"
    }
   ],
   "source": [
    "ETH_key"
   ]
  },
  {
   "cell_type": "code",
   "execution_count": 47,
   "metadata": {},
   "outputs": [],
   "source": [
    "def create_trx(coin, account, recipient, amount):\n",
    "    if coin ==ETH:\n",
    "        gasEstimate = w3.eth.estimateGas(\n",
    "            {\"from\": account.address, \"to\": recipient, \"value\": amount}\n",
    "        )\n",
    "        trx_data = {\n",
    "            \"to\": recipient,\n",
    "            \"from\": account.address,\n",
    "            \"value\": amount,\n",
    "            \"gasPrice\": w3.eth.gasPrice,\n",
    "            \"gas\": gasEstimate,\n",
    "            \"nonce\": w3.eth.getTransactionCount(account.address)\n",
    "        }\n",
    "        return trx_data\n",
    "\n",
    "    if coin == BTCTEST:\n",
    "        return PrivateKeyTestnet.prepare_transaction(account.address, [(recipient, amount, BTC)]) "
   ]
  },
  {
   "cell_type": "code",
   "execution_count": 48,
   "metadata": {},
   "outputs": [],
   "source": [
    "trx = create_trx(ETH, ETH_key, '0xF0f66976D133d1AE93B2131bBBA0C8B913d895F6', 1)"
   ]
  },
  {
   "cell_type": "code",
   "execution_count": 49,
   "metadata": {},
   "outputs": [
    {
     "data": {
      "text/plain": [
       "{'to': '0xF0f66976D133d1AE93B2131bBBA0C8B913d895F6',\n",
       " 'from': '0xC6d5487ba0Bda90DAe66f20B0FEb988De9A9e1dF',\n",
       " 'value': 1,\n",
       " 'gasPrice': 20000000000,\n",
       " 'gas': 21000,\n",
       " 'nonce': 0}"
      ]
     },
     "execution_count": 49,
     "metadata": {},
     "output_type": "execute_result"
    }
   ],
   "source": [
    "trx"
   ]
  },
  {
   "cell_type": "code",
   "execution_count": 52,
   "metadata": {},
   "outputs": [],
   "source": [
    "def send_tx(coin,account, recipient, amount):\n",
    "    tx = create_trx(coin,account,recipient,amount)\n",
    "    signed_tx = account.sign_transaction(tx)\n",
    "    if coin == ETH:\n",
    "        result = w3.eth.sendRawTransaction(signed_tx.rawTransaction)\n",
    "        return result.hex()\n",
    "    elif coin == BTCTEST:\n",
    "        return NetworkAPI.broadcast_tx_testnet(signed_tx)"
   ]
  },
  {
   "cell_type": "code",
   "execution_count": 53,
   "metadata": {},
   "outputs": [
    {
     "ename": "ValueError",
     "evalue": "{'message': \"sender doesn't have enough funds to send tx. The upfront cost is: 420000000000001 and the sender's account only has: 0\", 'code': -32000, 'data': {'stack': \"Error: sender doesn't have enough funds to send tx. The upfront cost is: 420000000000001 and the sender's account only has: 0\\n    at VM.<anonymous> (/Applications/Ganache.app/Contents/Resources/static/node/node_modules/ganache-core/node_modules/ethereumjs-vm/lib/runTx.ts:114:11)\\n    at step (/Applications/Ganache.app/Contents/Resources/static/node/node_modules/ganache-core/node_modules/ethereumjs-vm/dist/runTx.js:32:23)\\n    at Object.next (/Applications/Ganache.app/Contents/Resources/static/node/node_modules/ganache-core/node_modules/ethereumjs-vm/dist/runTx.js:13:53)\\n    at fulfilled (/Applications/Ganache.app/Contents/Resources/static/node/node_modules/ganache-core/node_modules/ethereumjs-vm/dist/runTx.js:4:58)\\n    at runMicrotasks (<anonymous>)\\n    at processTicksAndRejections (internal/process/task_queues.js:93:5)\", 'name': 'Error'}}",
     "output_type": "error",
     "traceback": [
      "\u001b[0;31m---------------------------------------------------------------------------\u001b[0m",
      "\u001b[0;31mValueError\u001b[0m                                Traceback (most recent call last)",
      "\u001b[0;32m<ipython-input-53-b8bd70344ea3>\u001b[0m in \u001b[0;36m<module>\u001b[0;34m\u001b[0m\n\u001b[0;32m----> 1\u001b[0;31m \u001b[0msend_tx\u001b[0m\u001b[0;34m(\u001b[0m\u001b[0mETH\u001b[0m\u001b[0;34m,\u001b[0m \u001b[0mETH_key\u001b[0m\u001b[0;34m,\u001b[0m \u001b[0;34m'0xF0f66976D133d1AE93B2131bBBA0C8B913d895F6'\u001b[0m\u001b[0;34m,\u001b[0m \u001b[0;36m1\u001b[0m\u001b[0;34m)\u001b[0m\u001b[0;34m\u001b[0m\u001b[0;34m\u001b[0m\u001b[0m\n\u001b[0m",
      "\u001b[0;32m<ipython-input-52-ef8fe8563006>\u001b[0m in \u001b[0;36msend_tx\u001b[0;34m(coin, account, recipient, amount)\u001b[0m\n\u001b[1;32m      3\u001b[0m     \u001b[0msigned_tx\u001b[0m \u001b[0;34m=\u001b[0m \u001b[0maccount\u001b[0m\u001b[0;34m.\u001b[0m\u001b[0msign_transaction\u001b[0m\u001b[0;34m(\u001b[0m\u001b[0mtx\u001b[0m\u001b[0;34m)\u001b[0m\u001b[0;34m\u001b[0m\u001b[0;34m\u001b[0m\u001b[0m\n\u001b[1;32m      4\u001b[0m     \u001b[0;32mif\u001b[0m \u001b[0mcoin\u001b[0m \u001b[0;34m==\u001b[0m \u001b[0mETH\u001b[0m\u001b[0;34m:\u001b[0m\u001b[0;34m\u001b[0m\u001b[0;34m\u001b[0m\u001b[0m\n\u001b[0;32m----> 5\u001b[0;31m         \u001b[0mresult\u001b[0m \u001b[0;34m=\u001b[0m \u001b[0mw3\u001b[0m\u001b[0;34m.\u001b[0m\u001b[0meth\u001b[0m\u001b[0;34m.\u001b[0m\u001b[0msendRawTransaction\u001b[0m\u001b[0;34m(\u001b[0m\u001b[0msigned_tx\u001b[0m\u001b[0;34m.\u001b[0m\u001b[0mrawTransaction\u001b[0m\u001b[0;34m)\u001b[0m\u001b[0;34m\u001b[0m\u001b[0;34m\u001b[0m\u001b[0m\n\u001b[0m\u001b[1;32m      6\u001b[0m         \u001b[0;32mreturn\u001b[0m \u001b[0mresult\u001b[0m\u001b[0;34m.\u001b[0m\u001b[0mhex\u001b[0m\u001b[0;34m(\u001b[0m\u001b[0;34m)\u001b[0m\u001b[0;34m\u001b[0m\u001b[0;34m\u001b[0m\u001b[0m\n\u001b[1;32m      7\u001b[0m     \u001b[0;32melif\u001b[0m \u001b[0mcoin\u001b[0m \u001b[0;34m==\u001b[0m \u001b[0mBTCTEST\u001b[0m\u001b[0;34m:\u001b[0m\u001b[0;34m\u001b[0m\u001b[0;34m\u001b[0m\u001b[0m\n",
      "\u001b[0;32m~/anaconda3/lib/python3.7/site-packages/web3/eth.py\u001b[0m in \u001b[0;36msendRawTransaction\u001b[0;34m(self, raw_transaction)\u001b[0m\n\u001b[1;32m    390\u001b[0m         return self.web3.manager.request_blocking(\n\u001b[1;32m    391\u001b[0m             \u001b[0mRPC\u001b[0m\u001b[0;34m.\u001b[0m\u001b[0meth_sendRawTransaction\u001b[0m\u001b[0;34m,\u001b[0m\u001b[0;34m\u001b[0m\u001b[0;34m\u001b[0m\u001b[0m\n\u001b[0;32m--> 392\u001b[0;31m             \u001b[0;34m[\u001b[0m\u001b[0mraw_transaction\u001b[0m\u001b[0;34m]\u001b[0m\u001b[0;34m,\u001b[0m\u001b[0;34m\u001b[0m\u001b[0;34m\u001b[0m\u001b[0m\n\u001b[0m\u001b[1;32m    393\u001b[0m         )\n\u001b[1;32m    394\u001b[0m \u001b[0;34m\u001b[0m\u001b[0m\n",
      "\u001b[0;32m~/anaconda3/lib/python3.7/site-packages/web3/manager.py\u001b[0m in \u001b[0;36mrequest_blocking\u001b[0;34m(self, method, params, error_formatters)\u001b[0m\n\u001b[1;32m    151\u001b[0m         \u001b[0;32mif\u001b[0m \u001b[0;34m\"error\"\u001b[0m \u001b[0;32min\u001b[0m \u001b[0mresponse\u001b[0m\u001b[0;34m:\u001b[0m\u001b[0;34m\u001b[0m\u001b[0;34m\u001b[0m\u001b[0m\n\u001b[1;32m    152\u001b[0m             \u001b[0mapply_error_formatters\u001b[0m\u001b[0;34m(\u001b[0m\u001b[0merror_formatters\u001b[0m\u001b[0;34m,\u001b[0m \u001b[0mresponse\u001b[0m\u001b[0;34m)\u001b[0m\u001b[0;34m\u001b[0m\u001b[0;34m\u001b[0m\u001b[0m\n\u001b[0;32m--> 153\u001b[0;31m             \u001b[0;32mraise\u001b[0m \u001b[0mValueError\u001b[0m\u001b[0;34m(\u001b[0m\u001b[0mresponse\u001b[0m\u001b[0;34m[\u001b[0m\u001b[0;34m\"error\"\u001b[0m\u001b[0;34m]\u001b[0m\u001b[0;34m)\u001b[0m\u001b[0;34m\u001b[0m\u001b[0;34m\u001b[0m\u001b[0m\n\u001b[0m\u001b[1;32m    154\u001b[0m \u001b[0;34m\u001b[0m\u001b[0m\n\u001b[1;32m    155\u001b[0m         \u001b[0;32mreturn\u001b[0m \u001b[0mresponse\u001b[0m\u001b[0;34m[\u001b[0m\u001b[0;34m'result'\u001b[0m\u001b[0;34m]\u001b[0m\u001b[0;34m\u001b[0m\u001b[0;34m\u001b[0m\u001b[0m\n",
      "\u001b[0;31mValueError\u001b[0m: {'message': \"sender doesn't have enough funds to send tx. The upfront cost is: 420000000000001 and the sender's account only has: 0\", 'code': -32000, 'data': {'stack': \"Error: sender doesn't have enough funds to send tx. The upfront cost is: 420000000000001 and the sender's account only has: 0\\n    at VM.<anonymous> (/Applications/Ganache.app/Contents/Resources/static/node/node_modules/ganache-core/node_modules/ethereumjs-vm/lib/runTx.ts:114:11)\\n    at step (/Applications/Ganache.app/Contents/Resources/static/node/node_modules/ganache-core/node_modules/ethereumjs-vm/dist/runTx.js:32:23)\\n    at Object.next (/Applications/Ganache.app/Contents/Resources/static/node/node_modules/ganache-core/node_modules/ethereumjs-vm/dist/runTx.js:13:53)\\n    at fulfilled (/Applications/Ganache.app/Contents/Resources/static/node/node_modules/ganache-core/node_modules/ethereumjs-vm/dist/runTx.js:4:58)\\n    at runMicrotasks (<anonymous>)\\n    at processTicksAndRejections (internal/process/task_queues.js:93:5)\", 'name': 'Error'}}"
     ]
    }
   ],
   "source": [
    "send_tx(ETH, ETH_key, '0xF0f66976D133d1AE93B2131bBBA0C8B913d895F6', 1)"
   ]
  },
  {
   "cell_type": "code",
   "execution_count": null,
   "metadata": {},
   "outputs": [],
   "source": []
  }
 ],
 "metadata": {
  "kernelspec": {
   "display_name": "Python 3",
   "language": "python",
   "name": "python3"
  },
  "language_info": {
   "codemirror_mode": {
    "name": "ipython",
    "version": 3
   },
   "file_extension": ".py",
   "mimetype": "text/x-python",
   "name": "python",
   "nbconvert_exporter": "python",
   "pygments_lexer": "ipython3",
   "version": "3.7.4"
  }
 },
 "nbformat": 4,
 "nbformat_minor": 4
}
